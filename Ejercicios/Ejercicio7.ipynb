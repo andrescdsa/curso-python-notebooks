{
 "cells": [
  {
   "cell_type": "markdown",
   "metadata": {},
   "source": [
    "### Ejercicio 7. Composicion. Supermercado"
   ]
  },
  {
   "cell_type": "markdown",
   "metadata": {},
   "source": [
    "-Television  \n",
    "+id  \n",
    "+marca  \n",
    "+pulgadas  \n",
    "+precio\n",
    "\n",
    "-Ordenador  \n",
    "+id  \n",
    "+marca  \n",
    "+capacidad_disco_duro  \n",
    "+ram  \n",
    "+precio  \n",
    "\n",
    "-Monitor  \n",
    "+id  \n",
    "+marca  \n",
    "+pulgadas  \n",
    "+precio\n",
    "\n",
    "-Cliente  \n",
    "+nombre\n",
    "+tipo (VIP o no)\n",
    "+carrito_compra: listado[productos]\n",
    "+pagar()\n",
    "\n",
    "-Cajera  \n",
    "+numero_empleado  \n",
    "+nombre  \n",
    "+atender_cliente()  \n",
    "\n",
    "-Tienda  \n",
    "3 clientes\n",
    "2 cajeras  \n",
    "\n",
    "Cada cliente va llenar la cesta con uno o varios productos  \n",
    "\n",
    "cajeras van a ir atendiendo a los clientes  \n",
    "\n",
    "\n",
    "Si cliente es VIP, 15% en la compra"
   ]
  },
  {
   "cell_type": "code",
   "execution_count": 1,
   "metadata": {},
   "outputs": [],
   "source": [
    "class Television:\n",
    "    def __init__(self, id, marca, pulgadas, precio):\n",
    "        self.id = id \n",
    "        self.marca = marca \n",
    "        self.pulgadas = pulgadas \n",
    "        self.precio = precio \n",
    "        \n",
    "    def __str__(self):\n",
    "        return \" Id de la televisión {}, marca: {}, pulgadas: {}, precio: {}\".format(self.id,self.marca,self.pulgadas,self.precio)\n"
   ]
  },
  {
   "cell_type": "code",
   "execution_count": 2,
   "metadata": {},
   "outputs": [],
   "source": [
    "class Ordenador: \n",
    "    def __init__(self,id, marca, capacidad_disco_duro, ram, precio):\n",
    "        self.id = id  \n",
    "        self.marca = marca \n",
    "        self.capacidad_disco_duro = capacidad_disco_duro\n",
    "        self.ram = ram \n",
    "        self.precio = precio\n",
    "    \n",
    "    def __str__(self):\n",
    "        return \" Id del ordenador {}, marca: {}, capacidad disco duro: {}, ram: {}, precio: {}\".format(self.id,self.marca,self.capacidad_disco_duro,self.ram,self.precio)\n"
   ]
  },
  {
   "cell_type": "code",
   "execution_count": 3,
   "metadata": {},
   "outputs": [],
   "source": [
    "class Monitor:\n",
    "    def __init__(self, id, marca, pulgadas, precio):\n",
    "        self.id = id\n",
    "        self.marca = marca\n",
    "        self.pulgadas = pulgadas\n",
    "        self.precio = precio \n",
    "        \n",
    "    def __str__(self):\n",
    "        return \" Id del monitor {}, marca: {}, pulgadas: {}, precio: {}\".format(self.id,self.marca,self.pulgadas,self.precio)\n"
   ]
  },
  {
   "cell_type": "code",
   "execution_count": 4,
   "metadata": {},
   "outputs": [],
   "source": [
    "class Clientes: \n",
    "    def __init__(self, nombre, tipo, carrito_compra=[]):\n",
    "        self.nombre = nombre \n",
    "        self.tipo = tipo\n",
    "        self.carrito_compra = carrito_compra\n",
    "        \n",
    "    def pagar(self,importe):\n",
    "        print (\"El cliente {} esta pagando un total de {} euros \".format(self.nombre,importe))\n",
    "         \n",
    "    def __str__(self):\n",
    "        if(self.tipo):\n",
    "            tipo=\"Es Vip\"\n",
    "        else:\n",
    "            tipo = \"No es vip\"\n",
    "        return \" Cliente {}, Vip: {}\".format(self.nombre,tipo)\n",
    "        "
   ]
  },
  {
   "cell_type": "code",
   "execution_count": 18,
   "metadata": {},
   "outputs": [],
   "source": [
    "class Cajeras: \n",
    "    def __init__(self,numero_empleado,nombre):\n",
    "        self.numero_empleado = numero_empleado\n",
    "        self.nombre = nombre \n",
    "    \n",
    "    def atender_cliente(self,cliente):\n",
    "        total =0 \n",
    "        for producto in cliente.carrito_compra:\n",
    "            total+=producto.precio\n",
    "            \n",
    "        if(cliente.tipo == True):\n",
    "            print(\"Cliente vip, se le descuenta un 15% del total {}\".format(total))\n",
    "            total-=(total*0.15)\n",
    "            \n",
    "        print (\"El cliente {} tiene que pagar {} euros.\".format(cliente.nombre, total))\n",
    "        return total\n"
   ]
  },
  {
   "cell_type": "code",
   "execution_count": 19,
   "metadata": {},
   "outputs": [],
   "source": [
    "class Supermercado():\n",
    "    def __init__(self,nombre,cajeras=[], clientes=[]):\n",
    "        self.nombre = nombre\n",
    "        self.clientes = clientes\n",
    "        self.cajeras = cajeras\n",
    "        \n",
    "        \n",
    "    def addCliente(self,clientes):\n",
    "        self.clientes.append(clientes)\n",
    "    \n",
    "    def addCajera(self,cajeras):\n",
    "        self.cajeras.append(cajera)\n",
    "        \n",
    "    def cobrar_clientes(self):\n",
    "        \n",
    "        hay_cliente = self.hay_clientes()\n",
    "        \n",
    "        while (hay_cliente):\n",
    "            for cajera in self.cajeras:\n",
    "                if(hay_cliente):\n",
    "                    cliente = self.clientes.pop(0)\n",
    "                    print(\"La cajera {} esta atendiendo al cliente {}\".format(cajera.nombre,cliente))\n",
    "                    importe = cajera.atender_cliente(cliente)\n",
    "                    cliente.pagar(importe)\n",
    "                    print(\"-------------------------------------------\")\n",
    "                    hay_cliente = self.hay_clientes()\n",
    "                \n",
    "    def hay_clientes(self):\n",
    "        return len(self.clientes)>0\n",
    "            \n",
    "    "
   ]
  },
  {
   "cell_type": "code",
   "execution_count": 20,
   "metadata": {},
   "outputs": [
    {
     "name": "stdout",
     "output_type": "stream",
     "text": [
      "La cajera Pere esta atendiendo al cliente  Cliente Juan, Vip: No es vip\n",
      "El cliente Juan tiene que pagar 1599 euros.\n",
      "El cliente Juan esta pagando un total de 1599 euros \n",
      "-------------------------------------------\n",
      "La cajera Juana esta atendiendo al cliente  Cliente Lucas, Vip: Es Vip\n",
      "Cliente vip, se le descuenta un 15% del total 1619\n",
      "El cliente Lucas tiene que pagar 1376.15 euros.\n",
      "El cliente Lucas esta pagando un total de 1376.15 euros \n",
      "-------------------------------------------\n",
      "La cajera Pere esta atendiendo al cliente  Cliente Maria, Vip: Es Vip\n",
      "Cliente vip, se le descuenta un 15% del total 2350\n",
      "El cliente Maria tiene que pagar 1997.5 euros.\n",
      "El cliente Maria esta pagando un total de 1997.5 euros \n",
      "-------------------------------------------\n"
     ]
    }
   ],
   "source": [
    "television1 = Television(1,\"Sony\",30, 500)\n",
    "ordenador1 = Ordenador(1,\"MSI\",\"500GB\",\"16GB\", 1000)\n",
    "monitor1 = Monitor(1, \"ACER\", 27.5, 99)\n",
    "\n",
    "television2 = Television(2,\"Sony\",25, 400)\n",
    "ordenador2 = Ordenador(2,\"HP\",\"200GB\",\"32GB\", 1100)\n",
    "monitor2 = Monitor(2, \"ACER\", 35, 119)\n",
    "\n",
    "television3 = Television(3,\"Pana-Sony\",35, 700)\n",
    "ordenador3 = Ordenador(3,\"ASUS\",\"1TB\",\"64GB\", 1500)\n",
    "monitor3 = Monitor(3, \"ACER\", 30, 150)\n",
    "\n",
    "cajera1 = Cajeras(1,\"Pere\")\n",
    "cajera2 = Cajeras(2,\"Juana\")\n",
    "cajera3 = Cajeras(2,\"Luis\")\n",
    "\n",
    "\n",
    "\n",
    "cesta1 = [television1,ordenador1,monitor1]\n",
    "cesta2 = [television2,ordenador2,monitor2]\n",
    "cesta3 = [television3,ordenador3,monitor3]\n",
    "\n",
    "cliente1 = Clientes(\"Juan\", False,cesta1)\n",
    "cliente2 = Clientes(\"Lucas\", True,cesta2)\n",
    "cliente3 = Clientes(\"Maria\", True,cesta3)\n",
    "\n",
    "\n",
    "supermercado = Supermercado(\"Carrefour\",[cajera1,cajera2])\n",
    "##añadimos clientes a la cola de la caja \n",
    "supermercado.addCliente(cliente1)\n",
    "supermercado.addCliente(cliente2)\n",
    "supermercado.addCliente(cliente3)\n",
    "\n",
    "supermercado.cobrar_clientes()\n",
    "\n"
   ]
  },
  {
   "cell_type": "code",
   "execution_count": null,
   "metadata": {},
   "outputs": [],
   "source": []
  }
 ],
 "metadata": {
  "kernelspec": {
   "display_name": "Python 3 (ipykernel)",
   "language": "python",
   "name": "python3"
  },
  "language_info": {
   "codemirror_mode": {
    "name": "ipython",
    "version": 3
   },
   "file_extension": ".py",
   "mimetype": "text/x-python",
   "name": "python",
   "nbconvert_exporter": "python",
   "pygments_lexer": "ipython3",
   "version": "3.9.13"
  }
 },
 "nbformat": 4,
 "nbformat_minor": 4
}
