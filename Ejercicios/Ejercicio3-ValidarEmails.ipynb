{
 "cells": [
  {
   "cell_type": "markdown",
   "id": "21404eee-447f-4d87-b7d1-157b2d493de7",
   "metadata": {},
   "source": [
    "## Ejercicio 3"
   ]
  },
  {
   "cell_type": "markdown",
   "id": "e0e4b085-d612-4a9e-86a0-34a75c50d113",
   "metadata": {},
   "source": [
    "Pintar un menú mientras que la opción sea diferente de 4.\n",
    "\n",
    "1. Pintar un cuadrado ---> \"Has seleccionado la opción 1\"\n",
    "2. Validar email ---> \"Has seleccionado la opción 2\"\n",
    "Lista con 3 emails, validar cada uno de los emails, si un email no es válido se indicara no es correcto y los motivos\n",
    "- No puede tener espacios en blanco\n",
    "- Solo un @\n",
    "- Después del @ tiene que haber al menos 1 punto\n",
    "- La distancia entre el @ y el punto tiene que ser al menos de 2 caracteres\n",
    "- Después del último punto tiene que haber entre 2 y 5 caracteres \n",
    "\n",
    "3. Insertar alumno ---> \"Has seleccionado la opción 3\"\n",
    "4. Salir ---> \"Has seleccionado la opción 4\"\n",
    "\n",
    "Otra opción ---> Opción incorrecta. Vuelve a mostar el menú.\n",
    "Seleccione una opción:\n",
    "\n"
   ]
  },
  {
   "cell_type": "code",
   "execution_count": 6,
   "id": "e0c8ae5c-52a8-466b-9b11-6dcbc34bc06f",
   "metadata": {},
   "outputs": [
    {
     "name": "stdout",
     "output_type": "stream",
     "text": [
      "Menú\n",
      "Elige una opción:\n",
      "          1) Pintar un cuadrado\n",
      "          2) Validar email\n",
      "          3) Insertar alumno\n",
      "          4) Salir\n"
     ]
    },
    {
     "name": "stdin",
     "output_type": "stream",
     "text": [
      "Seleccione una opción 1\n"
     ]
    },
    {
     "name": "stdout",
     "output_type": "stream",
     "text": [
      "* * * * \n",
      "*     *\n",
      "*     *\n",
      "* * * * \n",
      "Elige una opción:\n",
      "          1) Pintar un cuadrado\n",
      "          2) Validar email\n",
      "          3) Insertar alumno\n",
      "          4) Salir\n"
     ]
    },
    {
     "name": "stdin",
     "output_type": "stream",
     "text": [
      "Seleccione una opción 4\n"
     ]
    },
    {
     "name": "stdout",
     "output_type": "stream",
     "text": [
      "Has seleccionado la opción 4 \n",
      "¡Adios!\n"
     ]
    }
   ],
   "source": [
    "opcion=0\n",
    "print(\"Menú\")\n",
    "while(not opcion=='4'):\n",
    "    print(\"\"\"Elige una opción:\n",
    "          1) Pintar un cuadrado\n",
    "          2) Validar email\n",
    "          3) Insertar alumno\n",
    "          4) Salir\"\"\")\n",
    "    opcion = input(\"Seleccione una opción\")\n",
    "    \n",
    "    if opcion == '1':\n",
    "        caracter=\"*\"\n",
    "        altura = int(input(\"Seleccione altura\"))\n",
    "        base = int(input(\"Seleccione base\"))\n",
    "        linea_superior_inferior=caracter+\" \"\n",
    "        for linea in range(altura):\n",
    "            if(linea==0 or linea== altura-1):\n",
    "                print(base*linea_superior_inferior)\n",
    "            else:\n",
    "                print(caracter+(' '*(len(base*(linea_superior_inferior))-3))+caracter)                  \n",
    "                               \n",
    "                               \n",
    "                               \n",
    "    elif opcion == '2':\n",
    "        print(\"Has seleccionado la opción 2 \")\n",
    "        email = input(\"Introduce el email para validar\")\n",
    "        ##if email:\n",
    "            ##pass Añadir codigo de abajo.\n",
    "    elif opcion == '3':\n",
    "        print(\"Has seleccionado la opción 3 \")\n",
    "        alumno = input(\"Nombre del alumno: \")\n",
    "        print(\"El alumno añadido es : \", alumno)\n",
    "    elif opcion == '4':\n",
    "        print(\"Has seleccionado la opción 4 \")\n",
    "        print(\"¡Adios!\")\n",
    "    else:\n",
    "        print(\"Opción incorrecta. Vuelve a seleccionar una opción\")\n",
    "                             \n",
    "    \n",
    "                             \n",
    "          "
   ]
  },
  {
   "cell_type": "code",
   "execution_count": 5,
   "id": "bda48ff4-8886-40db-8749-508adb78338d",
   "metadata": {},
   "outputs": [
    {
     "name": "stdout",
     "output_type": "stream",
     "text": [
      "* * * * \n",
      "*     *\n",
      "*     *\n",
      "* * * * \n"
     ]
    }
   ],
   "source": [
    "caracter=\"*\"\n",
    "altura = 4\n",
    "base = 4\n",
    "linea_superior_inferior=caracter+\" \"\n",
    "for linea in range(altura):\n",
    "    if(linea==0 or linea== altura-1):\n",
    "        print(base*linea_superior_inferior)\n",
    "    else:\n",
    "        print(caracter+(' '*(len(base*(linea_superior_inferior))-3))+caracter)"
   ]
  },
  {
   "cell_type": "code",
   "execution_count": 29,
   "id": "8cfe4934-d606-431f-86dc-3f1adc5e3b04",
   "metadata": {},
   "outputs": [
    {
     "name": "stdout",
     "output_type": "stream",
     "text": [
      "Validando email  asdasd.es\n",
      "El email asdasd.es no es correcto tiene que haber un @, \n",
      "Validando email  asdasd asdasd@asdq.es\n",
      "El email asdasd asdasd@asdq.es es correcto.\n",
      "Validando email  asda@asdawd@asda.es\n",
      "El email asda@asdawd@asda.es no es correcto tiene que haber un @, \n",
      "Validando email  asdqwe@a.es\n",
      "El email asdqwe@a.es no es correcto la distancia entre el arroba y el primer punto despues del @ debe ser mayor de 2, \n",
      "Validando email  asdwqe@asdqwe.asdas.asdasd\n",
      "El email asdwqe@asdqwe.asdas.asdasd no es correcto el subdominio del email debe estar entre 2 y 5.\n",
      "Validando email  asdasd@asd.as.es\n",
      "El email asdasd@asd.as.es es correcto.\n"
     ]
    }
   ],
   "source": [
    "lista_emails = [\"asdasd.es\",\"asdasd asdasd@asdq.es\",\"asda@asdawd@asda.es\",\"asdqwe@a.es\",\"asdwqe@asdqwe.asdas.asdasd\",\"asdasd@asd.as.es \"]\n",
    "for email in lista_emails:\n",
    "    email=email.strip()\n",
    "    print(\"Validando email \", email)\n",
    "    errores = \"\"\n",
    "    if email.count(\" \") > 1:\n",
    "        errores= errores + \"Tiene espacio en blanco, \"\n",
    "    if not email.count(\"@\") == 1:\n",
    "        errores= errores + \"tiene que haber un @, \"\n",
    "        ##el -1 coge el ultimo que separa del split\n",
    "    if not email.split(\"@\")[-1].count(\".\")>=1:\n",
    "        errores+= \"después del @ tiene que haber un punto, \"\n",
    "        ##desde que posicion quiero empezar, a partir de que posicion quiero cortar\n",
    "    if not email[email.find(\"@\")+1 : ].find(\".\")>1:\n",
    "        errores+=\"la distancia entre el arroba y el primer punto despues del @ debe ser mayor de 2, \"\n",
    "    if len(email.split(\".\")[-1]) < 2 or len(email.split(\".\")[-1]) >5:\n",
    "        errores+=\"el subdominio del email debe estar entre 2 y 5.\"\n",
    "        \n",
    "    if( errores==\"\"):\n",
    "        print(\"El email \" + email + \" es correcto.\")\n",
    "    else:\n",
    "        print(\"El email \" + email + \" no es correcto \" + errores)\n",
    "\n",
    "\n",
    "\n",
    "    "
   ]
  },
  {
   "cell_type": "code",
   "execution_count": null,
   "id": "8b16d5a4-e596-4dea-b7b0-e77d6a128066",
   "metadata": {},
   "outputs": [],
   "source": []
  }
 ],
 "metadata": {
  "kernelspec": {
   "display_name": "Python 3 (ipykernel)",
   "language": "python",
   "name": "python3"
  },
  "language_info": {
   "codemirror_mode": {
    "name": "ipython",
    "version": 3
   },
   "file_extension": ".py",
   "mimetype": "text/x-python",
   "name": "python",
   "nbconvert_exporter": "python",
   "pygments_lexer": "ipython3",
   "version": "3.9.13"
  }
 },
 "nbformat": 4,
 "nbformat_minor": 5
}
