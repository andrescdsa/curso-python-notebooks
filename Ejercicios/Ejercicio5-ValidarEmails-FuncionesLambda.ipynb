{
 "cells": [
  {
   "cell_type": "markdown",
   "id": "e0e4b085-d612-4a9e-86a0-34a75c50d113",
   "metadata": {},
   "source": [
    "Apartir del siguiente listado de emails.\n",
    "lista_emails = [\"asdasd.es\",\"asdasd asdasd@asdq.es\",\"asda@asdawd@asda.es\",\"asdqwe@a.es\",\"asdwqe@asdqwe.asdas.asdasd\",\"asdasd@asd.as.es \"]\n",
    "Obtener los nombre de usuarios de aquellos emails que sean validos, un email valido solo tiene un arroba, no tiene espacios en blanco, y después del arroba tiene un punto\n",
    "Indicar el número de emails validos que hay en el listado\n",
    "Sin for ni if. \n"
   ]
  },
  {
   "cell_type": "code",
   "execution_count": 9,
   "id": "8cfe4934-d606-431f-86dc-3f1adc5e3b04",
   "metadata": {},
   "outputs": [
    {
     "name": "stdout",
     "output_type": "stream",
     "text": [
      "Listado de usuarios valido: ['kimazo109', 'asdqwe', 'asdwqe', 'asdasd']\n",
      "4\n"
     ]
    }
   ],
   "source": [
    "lista_emails = [\"kimazo109@gmail.com\",\"asdasd.es\",\"asdasd asdasd@asdq.es\",\"asda@asdawd@asda.es\",\"asdqwe@a.es\",\"asdwqe@asdqwe.asdas.asdasd\",\"asdasd@asd.as.es \"]\n",
    "##Filtro para validar los emails de la lista lista_emails\n",
    "##email.count(\"@\") == 1 // email.count(\" \") ==0 1 //email.split(\"@\")[-1].count(\".\")<=1\n",
    "##validar_mail = lambda email : email.count(\"@\") ==1 and email.strip().count(\" \") == 0 and email.split(\"@\")[-1].count(\".\")<=1 \n",
    "##lista_mail_valido= list(filter(validar_mail, lista_emails))\n",
    "##print(f' Email valido: {lista_mail_valido}')\n",
    "\n",
    "\n",
    "\n",
    "\n",
    "\n",
    "emails_filtro_arroba = list(filter(lambda email : email.count(\"@\") == 1 , lista_emails))\n",
    "emails_filtro_espacio = list(filter(lambda email : not \" \" in email.strip() , emails_filtro_arroba))\n",
    "emails_filtro_punto = list(filter(lambda email : \".\" in email.split(\"@\")[1] , emails_filtro_espacio))\n",
    "##para obtener el nombre de usuario\n",
    "usuarios = list(map(lambda email : email.split(\"@\")[0] , emails_filtro_punto))\n",
    "\n",
    "print(\"Listado de usuarios valido: {}\".format(usuarios))                             \n",
    "\n",
    "from functools import reduce\n",
    "print(str(reduce(lambda u1,u2: u1 + 1 , usuarios,0)))\n",
    "\n",
    "\n",
    "    "
   ]
  },
  {
   "cell_type": "code",
   "execution_count": null,
   "id": "3dba628b-3def-482b-bc44-f570cb03666c",
   "metadata": {},
   "outputs": [],
   "source": []
  }
 ],
 "metadata": {
  "kernelspec": {
   "display_name": "Python 3 (ipykernel)",
   "language": "python",
   "name": "python3"
  },
  "language_info": {
   "codemirror_mode": {
    "name": "ipython",
    "version": 3
   },
   "file_extension": ".py",
   "mimetype": "text/x-python",
   "name": "python",
   "nbconvert_exporter": "python",
   "pygments_lexer": "ipython3",
   "version": "3.9.13"
  }
 },
 "nbformat": 4,
 "nbformat_minor": 5
}
