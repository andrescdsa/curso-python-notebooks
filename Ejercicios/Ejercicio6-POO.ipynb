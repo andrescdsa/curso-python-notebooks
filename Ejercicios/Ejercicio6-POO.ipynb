{
 "cells": [
  {
   "cell_type": "markdown",
   "id": "3664dcbe-0316-4ea0-a3fa-1fcc512ce9fa",
   "metadata": {},
   "source": [
    "## Ejercicio 4. Programación Orientada Objetos\n"
   ]
  },
  {
   "cell_type": "markdown",
   "id": "5f4b327e-76f2-4f14-887b-9c12de2566a5",
   "metadata": {},
   "source": [
    "Crear la clase Alumno\n",
    "\n",
    ".nombre\n",
    "\n",
    ".apellidos\n",
    "\n",
    ".dni\n",
    "\n",
    ".notas: diccionario <K:asignatura, V:nota>\n",
    "\n",
    "estudiar() --> el alumno <nombre> esta estudiando <asignatura obtenida de manera aleatoria del diccionario>\n",
    "\n",
    "3 Alumnos --> lista -->\n",
    "    -Nota media de cada alumno --> el alumno <nombre> tiene un nota media de ...\n",
    "    - Nota media de todos los alumnos --> La nota media de todos los alumnos es ... \n",
    "    \n",
    "   Tradicional y usando funciones lambda\n",
    "    \n",
    "    random.radint(1,10) genera un número aleatorio entre 1 y 10\n",
    "    \n",
    "    "
   ]
  },
  {
   "cell_type": "code",
   "execution_count": null,
   "id": "9bf66f07-f407-46be-a0e4-08ca1bf4bcf1",
   "metadata": {},
   "outputs": [],
   "source": []
  },
  {
   "cell_type": "code",
   "execution_count": null,
   "id": "efc40998-59dd-4b29-b7a8-3505736eaa6e",
   "metadata": {},
   "outputs": [],
   "source": []
  }
 ],
 "metadata": {
  "kernelspec": {
   "display_name": "Python 3 (ipykernel)",
   "language": "python",
   "name": "python3"
  },
  "language_info": {
   "codemirror_mode": {
    "name": "ipython",
    "version": 3
   },
   "file_extension": ".py",
   "mimetype": "text/x-python",
   "name": "python",
   "nbconvert_exporter": "python",
   "pygments_lexer": "ipython3",
   "version": "3.9.13"
  }
 },
 "nbformat": 4,
 "nbformat_minor": 5
}
