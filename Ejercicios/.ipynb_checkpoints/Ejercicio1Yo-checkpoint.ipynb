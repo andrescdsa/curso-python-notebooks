{
 "cells": [
  {
   "cell_type": "markdown",
   "id": "21404eee-447f-4d87-b7d1-157b2d493de7",
   "metadata": {},
   "source": [
    "## Ejercicio 1"
   ]
  },
  {
   "cell_type": "markdown",
   "id": "e0e4b085-d612-4a9e-86a0-34a75c50d113",
   "metadata": {},
   "source": [
    "Pintar un menú mientras que la opción sea diferente de 4.\n",
    "\n",
    "1. Pintar un cuadrado ---> \"Has seleccionado la opción 1\"\n",
    "2. Validar email ---> \"Has seleccionado la opción 2\"\n",
    "3. Insertar alumno ---> \"Has seleccionado la opción 3\"\n",
    "4. Salir ---> \"Has seleccionado la opción 4\"\n",
    "\n",
    "Otra opción ---> Opción incorrecta. Vuelve a mostar el menú.\n",
    "Seleccione una opción:\n",
    "\n"
   ]
  },
  {
   "cell_type": "code",
   "execution_count": 7,
   "id": "e0c8ae5c-52a8-466b-9b11-6dcbc34bc06f",
   "metadata": {},
   "outputs": [
    {
     "name": "stdout",
     "output_type": "stream",
     "text": [
      "Menú\n",
      "Elige una opción:\n",
      "          1) Pintar un cuadrado\n",
      "          2) Validar email\n",
      "          3) Insertar alumno\n",
      "          4) Salir\n"
     ]
    },
    {
     "name": "stdin",
     "output_type": "stream",
     "text": [
      "Seleccione una opción 1\n",
      "Seleccione altura 4\n",
      "Seleccione base 5\n"
     ]
    },
    {
     "name": "stdout",
     "output_type": "stream",
     "text": [
      "* * * * * \n",
      "*       *\n",
      "*       *\n",
      "* * * * * \n",
      "Elige una opción:\n",
      "          1) Pintar un cuadrado\n",
      "          2) Validar email\n",
      "          3) Insertar alumno\n",
      "          4) Salir\n"
     ]
    },
    {
     "name": "stdin",
     "output_type": "stream",
     "text": [
      "Seleccione una opción 4\n"
     ]
    },
    {
     "name": "stdout",
     "output_type": "stream",
     "text": [
      "Has seleccionado la opción 4 \n",
      "¡Adios!\n"
     ]
    }
   ],
   "source": [
    "opcion=0\n",
    "print(\"Menú\")\n",
    "while(not opcion=='4'):\n",
    "    print(\"\"\"Elige una opción:\n",
    "          1) Pintar un cuadrado\n",
    "          2) Validar email\n",
    "          3) Insertar alumno\n",
    "          4) Salir\"\"\")\n",
    "    opcion = input(\"Seleccione una opción\")\n",
    "    \n",
    "    if opcion == '1':\n",
    "        caracter=\"*\"\n",
    "        altura = int(input(\"Seleccione altura\"))\n",
    "        base = int(input(\"Seleccione base\"))\n",
    "        linea_superior_inferior=caracter+\" \"\n",
    "        for linea in range(altura):\n",
    "            if(linea==0 or linea== altura-1):\n",
    "                print(base*linea_superior_inferior)\n",
    "            else:\n",
    "                print(caracter+(' '*(len(base*(linea_superior_inferior))-3))+caracter)                  \n",
    "                               \n",
    "                               \n",
    "                               \n",
    "    elif opcion == '2':\n",
    "        print(\"Has seleccionado la opción 2 \")\n",
    "        email = input(\"Introduce el email para validar\")\n",
    "        ##if email:\n",
    "            ##pass\n",
    "    elif opcion == '3':\n",
    "        print(\"Has seleccionado la opción 3 \")\n",
    "        alumno = input(\"Nombre del alumno: \")\n",
    "        print(\"El alumno añadido es : \", alumno)\n",
    "    elif opcion == '4':\n",
    "        print(\"Has seleccionado la opción 4 \")\n",
    "        print(\"¡Adios!\")\n",
    "    else:\n",
    "        print(\"Opción incorrecta. Vuelve a seleccionar una opción\")\n",
    "                             \n",
    "    \n",
    "                             \n",
    "          "
   ]
  },
  {
   "cell_type": "code",
   "execution_count": 5,
   "id": "bda48ff4-8886-40db-8749-508adb78338d",
   "metadata": {},
   "outputs": [
    {
     "name": "stdout",
     "output_type": "stream",
     "text": [
      "* * * * \n",
      "*     *\n",
      "*     *\n",
      "* * * * \n"
     ]
    }
   ],
   "source": [
    "caracter=\"*\"\n",
    "altura = 4\n",
    "base = 4\n",
    "linea_superior_inferior=caracter+\" \"\n",
    "for linea in range(altura):\n",
    "    if(linea==0 or linea== altura-1):\n",
    "        print(base*linea_superior_inferior)\n",
    "    else:\n",
    "        print(caracter+(' '*(len(base*(linea_superior_inferior))-3))+caracter)"
   ]
  },
  {
   "cell_type": "code",
   "execution_count": null,
   "id": "8cfe4934-d606-431f-86dc-3f1adc5e3b04",
   "metadata": {},
   "outputs": [],
   "source": []
  }
 ],
 "metadata": {
  "kernelspec": {
   "display_name": "Python 3 (ipykernel)",
   "language": "python",
   "name": "python3"
  },
  "language_info": {
   "codemirror_mode": {
    "name": "ipython",
    "version": 3
   },
   "file_extension": ".py",
   "mimetype": "text/x-python",
   "name": "python",
   "nbconvert_exporter": "python",
   "pygments_lexer": "ipython3",
   "version": "3.9.13"
  }
 },
 "nbformat": 4,
 "nbformat_minor": 5
}
