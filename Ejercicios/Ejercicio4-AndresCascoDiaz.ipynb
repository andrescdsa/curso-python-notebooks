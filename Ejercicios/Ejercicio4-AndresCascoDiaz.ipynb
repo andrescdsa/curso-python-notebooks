{
 "cells": [
  {
   "cell_type": "markdown",
   "id": "819377d4-f1a4-4f22-a9e6-88d70c825aaa",
   "metadata": {},
   "source": [
    "## Ejercicio 4. Colecciones Colegio"
   ]
  },
  {
   "cell_type": "markdown",
   "id": "5b44d16e-f860-48d0-bcbe-ee98a392a0d9",
   "metadata": {},
   "source": [
    "Colegio de 3 Aulas\n",
    "\n",
    "1-Insertar Alumno\n",
    "    -En que aula quieres meter al alumno(1,2,3)\n",
    "    -DNI, Nombre, Apellidos\n",
    "2-Mostrar alumnos colegio\n",
    "    -Todos los alumnos del colegio por aula(aula 1 :etc ,etc )\n",
    "3-Mostrar alumnos aula\n",
    "    -De que aula quieres mostrar los alumnos(1,2,3)\n",
    "4-Buscar alumno\n",
    "    -Preguntar DNI, en que aula se encuentra el alumno de ese DNI\n",
    "5-Borrar alumno\n",
    "    -Preguntar DNI, borrar el alumno con ese dni \n",
    "6-Salir"
   ]
  },
  {
   "cell_type": "code",
   "execution_count": null,
   "id": "ba68010e-3028-440b-ae80-5cd2bd228411",
   "metadata": {},
   "outputs": [],
   "source": [
    "opcion = 0 \n",
    "aula1 = [{'dni':'01','Nombre':'Luis','Apellido':'Lopez'},\n",
    "         {'dni':'02','Nombre':'Marta','Apellido':'Gomez'},\n",
    "         {'dni':'03','Nombre':'Juan','Apellido':'Magan'}]\n",
    "\n",
    "aula2 = [{'dni':'04','Nombre':'Pepe','Apellido':'Martin'},\n",
    "         {'dni':'05','Nombre':'Lucas','Apellido':'Chamba'},\n",
    "         {'dni':'06','Nombre':'Dani','Apellido':'Lel'}]\n",
    "\n",
    "aula3 = [{'dni':'07','Nombre':'Maria','Apellido':'Fer'},\n",
    "         {'dni':'08','Nombre':'Cris','Apellido':'Ger'},\n",
    "         {'dni':'09','Nombre':'Luisa','Apellido':'Pen'}]\n",
    "\n",
    "colegio = { 'aula1': aula1, 'aula2':aula2, 'aula3':aula3}\n",
    "##colegio={ 'aula1': {}, 'aula2':{}, 'aula3':{}}\n",
    "##alumno={dni:[nombre,apellido]}\n",
    "\n",
    "print(\"Menú del colegio\")\n",
    "while(not opcion == 6 ):\n",
    "    print(\"\"\"Elige una opción:\n",
    "          1) Insertar un alumno\n",
    "          2) Mostrar los alumnos del colegio por aula\n",
    "          3) Mostrar alumnos del aula\n",
    "          4) Buscar un alumno\n",
    "          5) Borrar un alumno\n",
    "          6) Salir\"\"\")\n",
    "    opcion = int(input(\"Seleccione una opción\"))\n",
    "    if opcion == 1:\n",
    "        print('a')\n",
    "    elif opcion == 2:\n",
    "        for au in colegio:\n",
    "            print( au + \":\" + str(colegio[au]) )\n",
    "    else:\n",
    "        print(\"Opción incorrecta. Vuelve a seleccionar una opción\")\n",
    "        "
   ]
  },
  {
   "cell_type": "code",
   "execution_count": 6,
   "id": "dd2def4a-2174-4209-9231-805b9b76a2e6",
   "metadata": {},
   "outputs": [
    {
     "ename": "IndentationError",
     "evalue": "unexpected indent (1427715091.py, line 14)",
     "output_type": "error",
     "traceback": [
      "\u001b[1;36m  File \u001b[1;32m\"C:\\Users\\A\\AppData\\Local\\Temp\\ipykernel_9992\\1427715091.py\"\u001b[1;36m, line \u001b[1;32m14\u001b[0m\n\u001b[1;33m    for au in colegio:\u001b[0m\n\u001b[1;37m    ^\u001b[0m\n\u001b[1;31mIndentationError\u001b[0m\u001b[1;31m:\u001b[0m unexpected indent\n"
     ]
    }
   ],
   "source": [
    "aula1 = [{'dni':'01','Nombre':'Luis','Apellido':'Lopez'},\n",
    "         {'dni':'02','Nombre':'Marta','Apellido':'Gomez'},\n",
    "         {'dni':'03','Nombre':'Juan','Apellido':'Magan'}]\n",
    "\n",
    "aula2 = [{'dni':'04','Nombre':'Pepe','Apellido':'Martin'},\n",
    "         {'dni':'05','Nombre':'Lucas','Apellido':'Chamba'},\n",
    "         {'dni':'06','Nombre':'Dani','Apellido':'Lel'}]\n",
    "\n",
    "aula3 = [{'dni':'07','Nombre':'Maria','Apellido':'Fer'},\n",
    "         {'dni':'08','Nombre':'Cris','Apellido':'Ger'},\n",
    "         {'dni':'09','Nombre':'Luisa','Apellido':'Pen'}]\n",
    "\n",
    "colegio = { 'aula': aula1, 'aula2':aula2, 'aula3':aula3}\n",
    "    for au in colegio:\n",
    "        for clave,valor in au.items():\n",
    "                print(clave)\n",
    "        print (\"====================\")\n",
    "    "
   ]
  },
  {
   "cell_type": "code",
   "execution_count": null,
   "id": "3cf7a8e5-e40e-486c-b3e3-59ae01aac1bc",
   "metadata": {},
   "outputs": [],
   "source": []
  },
  {
   "cell_type": "code",
   "execution_count": null,
   "id": "ac5920de-5a66-4eff-aee2-b237e7990540",
   "metadata": {},
   "outputs": [],
   "source": []
  }
 ],
 "metadata": {
  "kernelspec": {
   "display_name": "Python 3 (ipykernel)",
   "language": "python",
   "name": "python3"
  },
  "language_info": {
   "codemirror_mode": {
    "name": "ipython",
    "version": 3
   },
   "file_extension": ".py",
   "mimetype": "text/x-python",
   "name": "python",
   "nbconvert_exporter": "python",
   "pygments_lexer": "ipython3",
   "version": "3.9.13"
  }
 },
 "nbformat": 4,
 "nbformat_minor": 5
}
